{
 "cells": [
  {
   "cell_type": "code",
   "execution_count": 5,
   "id": "c3996d78",
   "metadata": {},
   "outputs": [],
   "source": [
    "import numpy as np\n",
    "from mpl_toolkits.mplot3d import Axes3D\n",
    "import matplotlib.pyplot as plt\n",
    "from matplotlib import cm\n",
    "from matplotlib.ticker import LinearLocator, FormatStrFormatter"
   ]
  },
  {
   "cell_type": "code",
   "execution_count": 6,
   "id": "49215496",
   "metadata": {},
   "outputs": [],
   "source": [
    "def compute(delta_eta, eta_max, Nf, IC = \"NewBorn\", alpha = 0.25):\n",
    "    # IC = initial condition\n",
    "    \n",
    "    Nc = 3\n",
    "    N_ratio = Nf / Nc\n",
    "    n_steps = int(eta_max / delta_eta)\n",
    "    \n",
    "    if IC == \"Ones\": # setting initial condition to all 1s \n",
    "        G = np.ones((n_steps + 1, n_steps + 1))\n",
    "        G2 = np.ones((n_steps + 1, n_steps + 1))\n",
    "        Q = np.ones((n_steps + 1, n_steps + 1))\n",
    "        Gm = np.ones((n_steps + 1, 2*n_steps + 1, n_steps + 1))\n",
    "        Gm2 = np.ones((n_steps + 1, 2*n_steps + 1, n_steps + 1))\n",
    "        Gb = np.ones((n_steps + 1, 2*n_steps + 1, n_steps + 1))\n",
    "         \n",
    "    elif IC == \"Born\": # setting initial conditions to Born expression\n",
    "        CF = ((Nc ** 2) - 1) / (2 * Nc)\n",
    "        coef = ((alpha ** 2) * CF / (2 * Nc)) * np.pi * np.sqrt(2 * np.pi / (alpha * Nc)) * delta_eta\n",
    "        G = np.array([[coef * ((2 * (i - n_steps+j)) + ((CF - 2) * j)) for j in range(n_steps + 1)] for i in range(n_steps + 1)])\n",
    "        Gm = np.array([[[coef * ((2 * (i - n_steps+j)) + ((CF - 2) * j)) for j in range(n_steps + 1)] for k in range(2*n_steps + 1)] for i in range(n_steps + 1)])\n",
    "        Q = np.array([[coef * ((2 * (i - n_steps+j)) + ((CF - 2) * j)) for j in range(n_steps + 1)] for i in range(n_steps + 1)])\n",
    "        Gb = np.array([[[coef * ((2 * (i - n_steps+j)) + ((CF - 2) * j)) for j in range(n_steps + 1)] for k in range(2*n_steps + 1)] for i in range(n_steps + 1)])\n",
    "        G2 = np.array([[coef * (i - n_steps+j) for j in range(n_steps + 1)] for i in range(n_steps + 1)])\n",
    "        Gm2 = np.array([[[coef * (i - n_steps+j) for j in range(n_steps + 1)] for k in range(2*n_steps + 1)] for i in range(n_steps + 1)])\n",
    "        \n",
    "    else: # setting initial conditions to ??\n",
    "        CF = ((Nc ** 2) - 1) / (2 * Nc)\n",
    "        coef = ((alpha ** 2) * CF / (2 * Nc)) * np.pi * np.sqrt(2 * np.pi / (alpha * Nc)) * delta_eta\n",
    "        G = np.array([[coef * ((CF * (j + n_steps)) - (2 * min(- i + n_steps, j))) for j in range(n_steps + 1)] for i in range(n_steps + 1)])\n",
    "        Gm = np.array([[[coef * ((CF * (j + n_steps)) - (2 * min(- i + n_steps, j))) for j in range(n_steps + 1)] for k in range(2*n_steps + 1)] for i in range(n_steps + 1)])\n",
    "        Q = np.array([[coef * ((CF * (j + n_steps)) - (2 * min(- i + n_steps, j))) for j in range(n_steps + 1)] for i in range(n_steps + 1)])\n",
    "        Gb = np.array([[[coef * ((CF * (j + n_steps)) - (2 * min(- i + n_steps, j))) for j in range(n_steps + 1)] for k in range(2*n_steps + 1)] for i in range(n_steps + 1)])\n",
    "        G2 = np.array([[coef * (i - n_steps+j) for j in range(n_steps + 1)] for i in range(n_steps + 1)])\n",
    "        Gm2 = np.array([[[coef * (i - n_steps+j) for j in range(n_steps + 1)] for k in range(2*n_steps + 1)] for i in range(n_steps + 1)])\n",
    "\n",
    "    \n",
    "    for j in range(1, n_steps + 1): \n",
    "        for i in range(j - n_steps, j):     # For i=j, each amplitude just equals the IC. For Gammas, we have i=k=j.\n",
    "            \n",
    "            # Increment Q\n",
    "            Q[i+n_steps-j, j] = Q[i+n_steps-j+1, j-1] \n",
    "            if IC == \"Born\" or IC == \"NewBorn\":\n",
    "                Q[i+n_steps-j, j] += ((CF - 2) * coef)\n",
    "            for ii in range(i-1, j-1):\n",
    "                Q[i+n_steps-j, j] += (delta_eta ** 2) * (Q[ii+n_steps-j+1, j-1] + 2*G2[ii+n_steps-j+1, j-1]) / 2\n",
    "            for ii in range(i, j-1):\n",
    "                Q[i+n_steps-j, j] += (delta_eta ** 2) * (2*Gm[i+n_steps-j+1, ii+n_steps, j-1] + 2*G[ii+n_steps-j+1, j-1] + Q[ii+n_steps-j+1, j-1] - Gb[i+n_steps-j+1, ii+n_steps, j-1] + 2 * Gm2[i+n_steps-j+1, ii+n_steps, j-1] + 2 * G2[ii+n_steps-j+1, j-1])\n",
    "            for jj in range(j-1):\n",
    "                Q[i+n_steps-j, j] += (delta_eta ** 2) * (Q[i-j+n_steps, jj] + 2*G2[i-j+n_steps, jj]) / 2\n",
    "                \n",
    "            # Increment Gb (Gamma bar)\n",
    "            Gb[i+n_steps-j, i+n_steps, j] = Q[i+n_steps-j, j]\n",
    "            for k in range(i+1, j+1):\n",
    "                Gb[i+n_steps-j, k+n_steps, j] = Gb[i+n_steps-j+1, k-1+n_steps, j-1]\n",
    "                if IC == \"Born\" or IC == \"NewBorn\":\n",
    "                    Gb[i+n_steps-j, k+n_steps, j] += ((CF - 2) * coef)\n",
    "                for ii in range(k-1, j-1):\n",
    "                    Gb[i+n_steps-j, k+n_steps, j] += (delta_eta ** 2) * (Q[ii+n_steps-j+1, j-1] + 2*G2[ii+n_steps-j+1, j-1]) / 2\n",
    "                for ii in range(max(i, k-1), j-1):\n",
    "                    Gb[i+n_steps-j, k+n_steps, j] += (delta_eta ** 2) * (2*Gm[i+n_steps-j+1, ii+n_steps, j-1] + 2*G[ii+n_steps-j+1, j-1] + Q[ii+n_steps-j+1, j-1] - Gb[i+n_steps-j+1, ii+n_steps, j-1] + 2 * Gm2[i+n_steps-j+1, ii+n_steps, j-1] + 2 * G2[ii+n_steps-j+1, j-1])\n",
    "            \n",
    "            # Increment G (G adjoint)\n",
    "            G[i+n_steps-j, j] = G[i+n_steps-j+1, j-1] \n",
    "            if IC == \"Born\" or IC == \"NewBorn\":\n",
    "                G[i+n_steps-j, j] += ((CF - 2) * coef)\n",
    "            for jj in range(j-1):\n",
    "                G[i+n_steps-j, j] += - (delta_eta ** 2) * (Q[i-j+n_steps, jj] + 2*G2[i-j+n_steps, jj]) * N_ratio / 4\n",
    "            for ii in range(i, j-1):\n",
    "                G[i+n_steps-j, j] += (delta_eta ** 2) * (Gm[i+n_steps-j+1, ii+n_steps, j-1] + 3 * G[ii+n_steps-j+1, j-1] + 2 * G2[ii+n_steps-j+1, j-1] + ((4 - N_ratio) / 2) * Gm2[i+n_steps-j+1, ii+n_steps, j-1] - (N_ratio / 4) * Gb[i+n_steps-j+1, ii+n_steps, j-1])\n",
    "            G[i+n_steps-j, j] += - (delta_eta ** 2) * (Q[i-1+n_steps-j+1, j-1] + 2*G2[i-1+n_steps-j+1, j-1]) * N_ratio / 4\n",
    "                \n",
    "            # Increment Gm (Gamma adjoint)\n",
    "            Gm[i+n_steps-j, i+n_steps, j] = G[i+n_steps-j, j]\n",
    "            for k in range(i+1, j+1):\n",
    "                Gm[i+n_steps-j, k+n_steps, j] = Gm[i+n_steps-j+1, k-1+n_steps, j-1]\n",
    "                if IC == \"Born\" or IC == \"NewBorn\":\n",
    "                    Gm[i+n_steps-j, k+n_steps, j] += ((CF - 2) * coef)\n",
    "                for ii in range(max(i, k-1), j-1):\n",
    "                    Gm[i+n_steps-j, k+n_steps, j] += (delta_eta ** 2) * (Gm[i+n_steps-j+1, ii+n_steps, j-1] + 3 * G[ii+n_steps-j+1, j-1] + 2 * G2[ii+n_steps-j+1, j-1] + ((4 - N_ratio) / 2) * Gm2[i+n_steps-j+1, ii+n_steps, j-1] - (N_ratio / 4) * Gb[i+n_steps-j+1, ii+n_steps, j-1])\n",
    "            \n",
    "            # Increment G2 (G2 adjoint)\n",
    "            G2[i+n_steps-j, j] = G2[i+n_steps-j+1, j-1]\n",
    "            for jj in range(j-1):\n",
    "                G2[i+n_steps-j, j] += 2 * (delta_eta ** 2) * (G[i-j+n_steps, jj] + 2*G2[i-j+n_steps, jj])\n",
    "            G2[i+n_steps-j, j] += 2 * (delta_eta ** 2) * (G[i-1+n_steps-j+1, j-1] + 2*G2[i-1+n_steps-j+1, j-1])\n",
    "            \n",
    "            # Increment Gm2 (Gamma 2 adjoint)\n",
    "            Gm2[i+n_steps-j, i+n_steps, j] = G2[i+n_steps-j, j]\n",
    "            for k in range(i+1, j+1):\n",
    "                Gm2[i+n_steps-j, k+n_steps, j] = Gm2[i+n_steps-j+1, k-1+n_steps, j-1]\n",
    "                \n",
    "        print(np.round(j * delta_eta, 4))\n",
    "        \n",
    "    return Q, G, G2"
   ]
  },
  {
   "cell_type": "markdown",
   "id": "ff87ad4d",
   "metadata": {},
   "source": [
    "### Delta = 0.05"
   ]
  },
  {
   "cell_type": "code",
   "execution_count": 7,
   "id": "41c74261",
   "metadata": {},
   "outputs": [
    {
     "name": "stdout",
     "output_type": "stream",
     "text": [
      "0.05\n",
      "0.1\n",
      "0.15\n",
      "0.2\n",
      "0.25\n",
      "0.3\n",
      "0.35\n",
      "0.4\n",
      "0.45\n",
      "0.5\n",
      "0.55\n",
      "0.6\n",
      "0.65\n",
      "0.7\n",
      "0.75\n",
      "0.8\n",
      "0.85\n",
      "0.9\n",
      "0.95\n",
      "1.0\n",
      "1.05\n",
      "1.1\n"
     ]
    },
    {
     "ename": "KeyboardInterrupt",
     "evalue": "",
     "output_type": "error",
     "traceback": [
      "\u001b[0;31m---------------------------------------------------------------------------\u001b[0m",
      "\u001b[0;31mKeyboardInterrupt\u001b[0m                         Traceback (most recent call last)",
      "\u001b[0;32m/var/folders/ys/mxqhftx125v1xzgtytgqst140000gn/T/ipykernel_1248/4283812610.py\u001b[0m in \u001b[0;36m<module>\u001b[0;34m\u001b[0m\n\u001b[0;32m----> 1\u001b[0;31m \u001b[0mQ\u001b[0m\u001b[0;34m,\u001b[0m \u001b[0mG\u001b[0m\u001b[0;34m,\u001b[0m \u001b[0mG2\u001b[0m \u001b[0;34m=\u001b[0m \u001b[0mcompute\u001b[0m\u001b[0;34m(\u001b[0m\u001b[0;36m0.05\u001b[0m\u001b[0;34m,\u001b[0m \u001b[0;36m40\u001b[0m\u001b[0;34m,\u001b[0m \u001b[0;36m3\u001b[0m\u001b[0;34m,\u001b[0m \u001b[0mIC\u001b[0m \u001b[0;34m=\u001b[0m \u001b[0;34m\"Ones\"\u001b[0m\u001b[0;34m)\u001b[0m\u001b[0;34m\u001b[0m\u001b[0;34m\u001b[0m\u001b[0m\n\u001b[0m",
      "\u001b[0;32m/var/folders/ys/mxqhftx125v1xzgtytgqst140000gn/T/ipykernel_1248/1604429147.py\u001b[0m in \u001b[0;36mcompute\u001b[0;34m(delta_eta, eta_max, Nf, IC, alpha)\u001b[0m\n\u001b[1;32m     58\u001b[0m                     \u001b[0mGb\u001b[0m\u001b[0;34m[\u001b[0m\u001b[0mi\u001b[0m\u001b[0;34m+\u001b[0m\u001b[0mn_steps\u001b[0m\u001b[0;34m-\u001b[0m\u001b[0mj\u001b[0m\u001b[0;34m,\u001b[0m \u001b[0mk\u001b[0m\u001b[0;34m+\u001b[0m\u001b[0mn_steps\u001b[0m\u001b[0;34m,\u001b[0m \u001b[0mj\u001b[0m\u001b[0;34m]\u001b[0m \u001b[0;34m+=\u001b[0m \u001b[0;34m(\u001b[0m\u001b[0mdelta_eta\u001b[0m \u001b[0;34m**\u001b[0m \u001b[0;36m2\u001b[0m\u001b[0;34m)\u001b[0m \u001b[0;34m*\u001b[0m \u001b[0;34m(\u001b[0m\u001b[0mQ\u001b[0m\u001b[0;34m[\u001b[0m\u001b[0mii\u001b[0m\u001b[0;34m+\u001b[0m\u001b[0mn_steps\u001b[0m\u001b[0;34m-\u001b[0m\u001b[0mj\u001b[0m\u001b[0;34m+\u001b[0m\u001b[0;36m1\u001b[0m\u001b[0;34m,\u001b[0m \u001b[0mj\u001b[0m\u001b[0;34m-\u001b[0m\u001b[0;36m1\u001b[0m\u001b[0;34m]\u001b[0m \u001b[0;34m+\u001b[0m \u001b[0;36m2\u001b[0m\u001b[0;34m*\u001b[0m\u001b[0mG2\u001b[0m\u001b[0;34m[\u001b[0m\u001b[0mii\u001b[0m\u001b[0;34m+\u001b[0m\u001b[0mn_steps\u001b[0m\u001b[0;34m-\u001b[0m\u001b[0mj\u001b[0m\u001b[0;34m+\u001b[0m\u001b[0;36m1\u001b[0m\u001b[0;34m,\u001b[0m \u001b[0mj\u001b[0m\u001b[0;34m-\u001b[0m\u001b[0;36m1\u001b[0m\u001b[0;34m]\u001b[0m\u001b[0;34m)\u001b[0m \u001b[0;34m/\u001b[0m \u001b[0;36m2\u001b[0m\u001b[0;34m\u001b[0m\u001b[0;34m\u001b[0m\u001b[0m\n\u001b[1;32m     59\u001b[0m                 \u001b[0;32mfor\u001b[0m \u001b[0mii\u001b[0m \u001b[0;32min\u001b[0m \u001b[0mrange\u001b[0m\u001b[0;34m(\u001b[0m\u001b[0mmax\u001b[0m\u001b[0;34m(\u001b[0m\u001b[0mi\u001b[0m\u001b[0;34m,\u001b[0m \u001b[0mk\u001b[0m\u001b[0;34m-\u001b[0m\u001b[0;36m1\u001b[0m\u001b[0;34m)\u001b[0m\u001b[0;34m,\u001b[0m \u001b[0mj\u001b[0m\u001b[0;34m-\u001b[0m\u001b[0;36m1\u001b[0m\u001b[0;34m)\u001b[0m\u001b[0;34m:\u001b[0m\u001b[0;34m\u001b[0m\u001b[0;34m\u001b[0m\u001b[0m\n\u001b[0;32m---> 60\u001b[0;31m                     \u001b[0mGb\u001b[0m\u001b[0;34m[\u001b[0m\u001b[0mi\u001b[0m\u001b[0;34m+\u001b[0m\u001b[0mn_steps\u001b[0m\u001b[0;34m-\u001b[0m\u001b[0mj\u001b[0m\u001b[0;34m,\u001b[0m \u001b[0mk\u001b[0m\u001b[0;34m+\u001b[0m\u001b[0mn_steps\u001b[0m\u001b[0;34m,\u001b[0m \u001b[0mj\u001b[0m\u001b[0;34m]\u001b[0m \u001b[0;34m+=\u001b[0m \u001b[0;34m(\u001b[0m\u001b[0mdelta_eta\u001b[0m \u001b[0;34m**\u001b[0m \u001b[0;36m2\u001b[0m\u001b[0;34m)\u001b[0m \u001b[0;34m*\u001b[0m \u001b[0;34m(\u001b[0m\u001b[0;36m2\u001b[0m\u001b[0;34m*\u001b[0m\u001b[0mGm\u001b[0m\u001b[0;34m[\u001b[0m\u001b[0mi\u001b[0m\u001b[0;34m+\u001b[0m\u001b[0mn_steps\u001b[0m\u001b[0;34m-\u001b[0m\u001b[0mj\u001b[0m\u001b[0;34m+\u001b[0m\u001b[0;36m1\u001b[0m\u001b[0;34m,\u001b[0m \u001b[0mii\u001b[0m\u001b[0;34m+\u001b[0m\u001b[0mn_steps\u001b[0m\u001b[0;34m,\u001b[0m \u001b[0mj\u001b[0m\u001b[0;34m-\u001b[0m\u001b[0;36m1\u001b[0m\u001b[0;34m]\u001b[0m \u001b[0;34m+\u001b[0m \u001b[0;36m2\u001b[0m\u001b[0;34m*\u001b[0m\u001b[0mG\u001b[0m\u001b[0;34m[\u001b[0m\u001b[0mii\u001b[0m\u001b[0;34m+\u001b[0m\u001b[0mn_steps\u001b[0m\u001b[0;34m-\u001b[0m\u001b[0mj\u001b[0m\u001b[0;34m+\u001b[0m\u001b[0;36m1\u001b[0m\u001b[0;34m,\u001b[0m \u001b[0mj\u001b[0m\u001b[0;34m-\u001b[0m\u001b[0;36m1\u001b[0m\u001b[0;34m]\u001b[0m \u001b[0;34m+\u001b[0m \u001b[0mQ\u001b[0m\u001b[0;34m[\u001b[0m\u001b[0mii\u001b[0m\u001b[0;34m+\u001b[0m\u001b[0mn_steps\u001b[0m\u001b[0;34m-\u001b[0m\u001b[0mj\u001b[0m\u001b[0;34m+\u001b[0m\u001b[0;36m1\u001b[0m\u001b[0;34m,\u001b[0m \u001b[0mj\u001b[0m\u001b[0;34m-\u001b[0m\u001b[0;36m1\u001b[0m\u001b[0;34m]\u001b[0m \u001b[0;34m-\u001b[0m \u001b[0mGb\u001b[0m\u001b[0;34m[\u001b[0m\u001b[0mi\u001b[0m\u001b[0;34m+\u001b[0m\u001b[0mn_steps\u001b[0m\u001b[0;34m-\u001b[0m\u001b[0mj\u001b[0m\u001b[0;34m+\u001b[0m\u001b[0;36m1\u001b[0m\u001b[0;34m,\u001b[0m \u001b[0mii\u001b[0m\u001b[0;34m+\u001b[0m\u001b[0mn_steps\u001b[0m\u001b[0;34m,\u001b[0m \u001b[0mj\u001b[0m\u001b[0;34m-\u001b[0m\u001b[0;36m1\u001b[0m\u001b[0;34m]\u001b[0m \u001b[0;34m+\u001b[0m \u001b[0;36m2\u001b[0m \u001b[0;34m*\u001b[0m \u001b[0mGm2\u001b[0m\u001b[0;34m[\u001b[0m\u001b[0mi\u001b[0m\u001b[0;34m+\u001b[0m\u001b[0mn_steps\u001b[0m\u001b[0;34m-\u001b[0m\u001b[0mj\u001b[0m\u001b[0;34m+\u001b[0m\u001b[0;36m1\u001b[0m\u001b[0;34m,\u001b[0m \u001b[0mii\u001b[0m\u001b[0;34m+\u001b[0m\u001b[0mn_steps\u001b[0m\u001b[0;34m,\u001b[0m \u001b[0mj\u001b[0m\u001b[0;34m-\u001b[0m\u001b[0;36m1\u001b[0m\u001b[0;34m]\u001b[0m \u001b[0;34m+\u001b[0m \u001b[0;36m2\u001b[0m \u001b[0;34m*\u001b[0m \u001b[0mG2\u001b[0m\u001b[0;34m[\u001b[0m\u001b[0mii\u001b[0m\u001b[0;34m+\u001b[0m\u001b[0mn_steps\u001b[0m\u001b[0;34m-\u001b[0m\u001b[0mj\u001b[0m\u001b[0;34m+\u001b[0m\u001b[0;36m1\u001b[0m\u001b[0;34m,\u001b[0m \u001b[0mj\u001b[0m\u001b[0;34m-\u001b[0m\u001b[0;36m1\u001b[0m\u001b[0;34m]\u001b[0m\u001b[0;34m)\u001b[0m\u001b[0;34m\u001b[0m\u001b[0;34m\u001b[0m\u001b[0m\n\u001b[0m\u001b[1;32m     61\u001b[0m \u001b[0;34m\u001b[0m\u001b[0m\n\u001b[1;32m     62\u001b[0m             \u001b[0;31m# Increment G (G adjoint)\u001b[0m\u001b[0;34m\u001b[0m\u001b[0;34m\u001b[0m\u001b[0m\n",
      "\u001b[0;31mKeyboardInterrupt\u001b[0m: "
     ]
    }
   ],
   "source": [
    "Q, G, G2 = compute(0.05, 40, 3, IC = \"Ones\")"
   ]
  },
  {
   "cell_type": "code",
   "execution_count": 4,
   "id": "2cc918b3",
   "metadata": {},
   "outputs": [
    {
     "ename": "NameError",
     "evalue": "name 'Q' is not defined",
     "output_type": "error",
     "traceback": [
      "\u001b[0;31m---------------------------------------------------------------------------\u001b[0m",
      "\u001b[0;31mNameError\u001b[0m                                 Traceback (most recent call last)",
      "\u001b[0;32m/var/folders/ys/mxqhftx125v1xzgtytgqst140000gn/T/ipykernel_1248/2958768011.py\u001b[0m in \u001b[0;36m<module>\u001b[0;34m\u001b[0m\n\u001b[0;32m----> 1\u001b[0;31m \u001b[0mnp\u001b[0m\u001b[0;34m.\u001b[0m\u001b[0msavetxt\u001b[0m\u001b[0;34m(\u001b[0m\u001b[0;34m\"Q00540Nf3_new_Ones.dat\"\u001b[0m\u001b[0;34m,\u001b[0m \u001b[0mQ\u001b[0m\u001b[0;34m)\u001b[0m\u001b[0;34m\u001b[0m\u001b[0;34m\u001b[0m\u001b[0m\n\u001b[0m",
      "\u001b[0;31mNameError\u001b[0m: name 'Q' is not defined"
     ]
    }
   ],
   "source": [
    "np.savetxt(\"Q00540Nf3_new_Ones.dat\", Q)"
   ]
  },
  {
   "cell_type": "code",
   "execution_count": null,
   "id": "e26f94d9",
   "metadata": {},
   "outputs": [],
   "source": [
    "np.savetxt(\"G00540Nf3_new_Ones.dat\", G)"
   ]
  },
  {
   "cell_type": "code",
   "execution_count": null,
   "id": "f3e971ae",
   "metadata": {},
   "outputs": [],
   "source": [
    "np.savetxt(\"GG00540Nf3_new_Ones.dat\", G2)"
   ]
  }
 ],
 "metadata": {
  "kernelspec": {
   "display_name": "Python 3 (ipykernel)",
   "language": "python",
   "name": "python3"
  },
  "language_info": {
   "codemirror_mode": {
    "name": "ipython",
    "version": 3
   },
   "file_extension": ".py",
   "mimetype": "text/x-python",
   "name": "python",
   "nbconvert_exporter": "python",
   "pygments_lexer": "ipython3",
   "version": "3.9.13"
  }
 },
 "nbformat": 4,
 "nbformat_minor": 5
}
