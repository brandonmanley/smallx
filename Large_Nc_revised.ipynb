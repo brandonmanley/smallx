{
 "cells": [
  {
   "cell_type": "markdown",
   "metadata": {},
   "source": [
    "## Numerical Large-$N_c$ Solution\n",
    "\n",
    "The discretized evolution at large $N_c$ is of the form\n",
    "\n",
    "$$G_{ij} = A + G_{i(j-1)} + \\Delta s \\, \\Delta\\eta  \\, \\sum_{i'=i}^{j-2} \\, \\left[\\Gamma_{ii'(j-1)} + 3 \\, G_{i'(j-1)} + 2 \\, G_{2,i'(j-1)} + 2 \\, \\Gamma_{2,ii'(j-1)}\\right]$$\n",
    "$$\\Gamma_{ikj} = \\begin{cases}\n",
    " A + \\Gamma_{i(k-1)(j-1)} + \\Delta s \\, \\Delta\\eta \\,  \\sum_{i'=k-1}^{j-2}  \\,  \\left[  \\Gamma_{ii'(j-1)} + 3 \\, G_{i'(j-1)} + 2 \\, G_{2,i'(j-1)} + 2 \\, \\Gamma_{2,ii'(j-1)} \\right] &, \\;\\;\\; i < k \\\\\n",
    " G_{ij} &, \\;\\;\\; i=k \n",
    " \\end{cases}$$\n",
    "$$G_{2,ij}  =  G_{2,i(j-1)} + 2\\, \\Delta s \\, \\Delta\\eta  \\, \\left\\{ G_{i(j-1)} + 2G_{2,i(j-1)} + \\sum_{i'=0}^{i-1} \\, \\left[G_{i'(i'+j-i)} + 2 \\, G_{2,i'(i'+j-i)}\\right] \\right\\}$$\n",
    "$$\\Gamma_{2,ikj} = \\begin{cases}\n",
    " \\Gamma_{2,i(k-1)(j-1)} &, \\;\\;\\; i < k \\\\\n",
    " G_{2,ij} &, \\;\\;\\; i=k \n",
    "  \\end{cases}$$\n",
    "\n",
    "where\n",
    "\n",
    "$$A = \\frac{\\alpha_s^2 C_F}{2 N_c} \\pi  \\sqrt{\\frac{2\\pi}{\\alpha_sN_c}} \\, (C_F-2) \\, \\Delta\\eta \\equiv (C_F-2) \\,\\mathtt{\\;*\\; coef}$$"
   ]
  },
  {
   "cell_type": "code",
   "execution_count": 9,
   "metadata": {},
   "outputs": [],
   "source": [
    "from mpl_toolkits.mplot3d import Axes3D\n",
    "import matplotlib.pyplot as plt\n",
    "from matplotlib import cm\n",
    "from matplotlib.ticker import LinearLocator, FormatStrFormatter\n",
    "import numpy as np"
   ]
  },
  {
   "cell_type": "code",
   "execution_count": 14,
   "metadata": {},
   "outputs": [],
   "source": [
    "def compute(delta_eta, eta_max, IC = \"Ones\", alpha = 0.25):\n",
    "    # IC = \"Born\" or IC = \"Ones\"\n",
    "    n_steps = round(eta_max / delta_eta)\n",
    "    print(\"n steps =\", n_steps)\n",
    "    Nc = 3\n",
    "    CF = ((Nc ** 2) - 1) / (2 * Nc)\n",
    "    coef = ((alpha ** 2) * CF / (2 * Nc)) * np.pi * np.sqrt(2 * np.pi / (alpha * Nc)) * delta_eta\n",
    "    if IC == \"Ones\":\n",
    "        G = np.ones((n_steps + 1, n_steps + 1))\n",
    "        G2 = np.ones((n_steps + 1, n_steps + 1))\n",
    "        Gm = np.ones((n_steps + 1, n_steps + 1, n_steps + 1))\n",
    "        Gm2 = np.ones((n_steps + 1, n_steps + 1, n_steps + 1))\n",
    "    else:\n",
    "        G = np.array([[coef * ((2 * i) + ((CF - 2) * j)) for j in range(n_steps + 1)] for i in range(n_steps + 1)])\n",
    "        Gm = np.array([[[coef * ((2 * i) + ((CF - 2) * j)) for j in range(n_steps + 1)] for k in range(n_steps + 1)] for i in range(n_steps + 1)])\n",
    "        G2 = np.array([[coef * i for j in range(n_steps + 1)] for i in range(n_steps + 1)])\n",
    "        Gm2 = np.array([[[coef * i for j in range(n_steps + 1)] for k in range(n_steps + 1)] for i in range(n_steps + 1)])\n",
    "    \n",
    "    fac = ((CF - 2) * coef)\n",
    "#     fac = 0\n",
    "    for j in range(1, n_steps + 1):\n",
    "        for i in range(j + 1):\n",
    "            G[i, j] = G[i, j-1] + fac\n",
    "            Gm[i, i, j] = G[i, j]\n",
    "            G2[i, j] = G2[i, j-1] \n",
    "            Gm2[i, i, j] = G2[i, j]\n",
    "            \n",
    "            for ii in range(i, j):\n",
    "                G[i, j] += (delta_eta ** 2) * (Gm[i, ii, j-1] + 3 * G[ii, j-1] + 2 * G2[ii, j-1] + 2 * Gm2[i, ii, j-1])\n",
    "            \n",
    "            for k in range(i+1, j+1):\n",
    "                Gm2[i, k, j] = Gm2[i, k-1, j-1]\n",
    "                Gm[i, k, j] = Gm[i, k-1, j-1] + fac\n",
    "                for ii in range(k-1, j):\n",
    "                    Gm[i, k, j] += (delta_eta ** 2) * (Gm[i, ii, j-1] + 3 * G[ii, j-1] + 2 * G2[ii, j-1] + 2 * Gm2[i, ii, j-1])\n",
    "            \n",
    "            for ii in range(i):\n",
    "                G2[i, j] += 2 * (delta_eta ** 2) * (G[ii, ii + j - i] + 2 * G2[ii, ii + j - i])\n",
    "                  \n",
    "        if(np.mod(j*delta_eta, 1) == 0): print(np.round(j * delta_eta, 4))\n",
    "    return np.log(np.abs(G) + 0.0000001), np.log(np.abs(Gm) + 0.0000001), np.log(np.abs(G2) + 0.0000001), np.log(np.abs(Gm2) + 0.0000001)"
   ]
  },
  {
   "cell_type": "markdown",
   "metadata": {},
   "source": [
    "## Main Computation\n",
    "\n",
    "### $\\Delta\\eta = 0.10$, $\\eta_{\\max}\\leq 70$"
   ]
  },
  {
   "cell_type": "code",
   "execution_count": 15,
   "metadata": {},
   "outputs": [
    {
     "name": "stdout",
     "output_type": "stream",
     "text": [
      "n steps = 500\n",
      "1.0\n",
      "2.0\n",
      "3.0\n",
      "4.0\n",
      "5.0\n",
      "6.0\n",
      "7.0\n",
      "8.0\n",
      "9.0\n",
      "10.0\n",
      "11.0\n",
      "12.0\n",
      "13.0\n",
      "14.0\n",
      "15.0\n",
      "16.0\n",
      "17.0\n",
      "18.0\n",
      "19.0\n",
      "20.0\n",
      "21.0\n",
      "22.0\n",
      "23.0\n",
      "24.0\n",
      "25.0\n",
      "26.0\n",
      "27.0\n",
      "28.0\n",
      "29.0\n",
      "30.0\n",
      "31.0\n",
      "32.0\n",
      "33.0\n",
      "34.0\n",
      "35.0\n",
      "36.0\n",
      "37.0\n",
      "38.0\n",
      "39.0\n",
      "40.0\n",
      "41.0\n",
      "42.0\n",
      "43.0\n",
      "44.0\n",
      "45.0\n",
      "46.0\n",
      "47.0\n",
      "48.0\n",
      "49.0\n",
      "50.0\n"
     ]
    }
   ],
   "source": [
    "G01070, Gm01070, GG01070, GmG01070 = compute(0.1, 50)"
   ]
  },
  {
   "cell_type": "code",
   "execution_count": 16,
   "metadata": {},
   "outputs": [],
   "source": [
    "np.savetxt(\"G01050_ones.dat\", G01070)\n",
    "np.savetxt(\"GG01050_ones.dat\", GG01070)"
   ]
  },
  {
   "cell_type": "code",
   "execution_count": 23,
   "metadata": {},
   "outputs": [],
   "source": []
  },
  {
   "cell_type": "code",
   "execution_count": null,
   "metadata": {},
   "outputs": [],
   "source": []
  }
 ],
 "metadata": {
  "kernelspec": {
   "display_name": "Python 3 (ipykernel)",
   "language": "python",
   "name": "python3"
  },
  "language_info": {
   "codemirror_mode": {
    "name": "ipython",
    "version": 3
   },
   "file_extension": ".py",
   "mimetype": "text/x-python",
   "name": "python",
   "nbconvert_exporter": "python",
   "pygments_lexer": "ipython3",
   "version": "3.9.13"
  },
  "toc-autonumbering": true,
  "toc-showmarkdowntxt": false
 },
 "nbformat": 4,
 "nbformat_minor": 4
}
