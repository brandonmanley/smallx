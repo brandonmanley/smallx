{
 "cells": [
  {
   "cell_type": "code",
   "execution_count": 1,
   "id": "84044499",
   "metadata": {},
   "outputs": [],
   "source": [
    "import numpy as np\n",
    "import matplotlib.pyplot as plt\n",
    "from scipy import stats"
   ]
  },
  {
   "cell_type": "code",
   "execution_count": 108,
   "id": "6d679f22",
   "metadata": {},
   "outputs": [
    {
     "name": "stdout",
     "output_type": "stream",
     "text": [
      "50 50\n"
     ]
    }
   ],
   "source": [
    "etamax = 10.0\n",
    "delta = 0.05\n",
    "\n",
    "nsteps = (etamax*1.0)/delta\n",
    "fname = \"data/surface/G3_10_05.dat\"\n",
    "df = np.loadtxt(fname)\n",
    "\n",
    "fitmin = int(0.75*nsteps)\n",
    "fitmax = int(nsteps) \n",
    "s0_steps = 2\n",
    "\n",
    "data = df[s0_steps][fitmin:fitmax]\n",
    "\n",
    "eta_values = np.arange(0.75*etamax, etamax, step=delta)\n",
    "\n",
    "print(len(eta_values), len(data))\n",
    "if len(data) != len(eta_values): print(\"uh oh\")"
   ]
  },
  {
   "cell_type": "code",
   "execution_count": 30,
   "id": "6cc6fce3",
   "metadata": {},
   "outputs": [],
   "source": [
    "res = stats.linregress(eta_values, data)"
   ]
  },
  {
   "cell_type": "code",
   "execution_count": 47,
   "id": "5af07e65",
   "metadata": {},
   "outputs": [],
   "source": [
    "inter, error = res.slope, res.stderr"
   ]
  },
  {
   "cell_type": "code",
   "execution_count": 147,
   "id": "623103d2",
   "metadata": {},
   "outputs": [],
   "source": [
    "def getIntercept(etamax, delta, g):\n",
    "    nsteps = (etamax*1.0)/delta\n",
    "    \n",
    "    del_str = str(delta)[2:]\n",
    "    eta_str = str(int(etamax))\n",
    "    fname = \"data/surface/G\"+g+\"_\"+eta_str+\"_\"+del_str+\".dat\"\n",
    "    df = np.loadtxt(fname)\n",
    "    \n",
    "    fitmin = int(0.75*nsteps)\n",
    "    fitmax = int(nsteps) \n",
    "    s0_steps = 2\n",
    "    up_per = 1\n",
    "    bot_per = 0.75\n",
    "    \n",
    "    \n",
    "    data = df[s0_steps][fitmin:fitmax]\n",
    "    eta_values = np.arange(bot_per*etamax, up_per*etamax, step=delta)\n",
    "\n",
    "    if len(data) != len(eta_values): \n",
    "        eta_values = np.arange(bot_per*etamax, up_per*etamax - delta, step=delta)\n",
    "\n",
    "    if len(data) != len(eta_values): \n",
    "        print(\"uh oh:\", delta, etamax)\n",
    "        print(len(data), len(eta_values))\n",
    "        return [-1,-1]\n",
    "    \n",
    "    res = stats.linregress(eta_values, data)\n",
    "#     print(res.slope, res.stderr)\n",
    "    return [res.slope, res.stderr]"
   ]
  },
  {
   "cell_type": "code",
   "execution_count": 142,
   "id": "9ae85ebc",
   "metadata": {},
   "outputs": [
    {
     "name": "stdout",
     "output_type": "stream",
     "text": [
      "1.8311511668957692 0.0008432730476751496\n"
     ]
    },
    {
     "data": {
      "text/plain": [
       "[1.8311511668957692, 0.0008432730476751496]"
      ]
     },
     "execution_count": 142,
     "metadata": {},
     "output_type": "execute_result"
    }
   ],
   "source": [
    "getIntercept(10, 0.05)"
   ]
  },
  {
   "cell_type": "code",
   "execution_count": 161,
   "id": "d0bfbfae",
   "metadata": {},
   "outputs": [],
   "source": [
    "mdeltas =[10,     10,    20,    20,    30,     40,    50,     60,    60,   70]\n",
    "deltas = [0.0125, 0.016, 0.025, 0.032, 0.0375, 0.05, 0.0625, 0.075, 0.08, 0.1]\n",
    "\n",
    "for gvar in [\"3\", \"4\", \"5\", \"6\"]:\n",
    "    ints = []\n",
    "    for i, d in enumerate(deltas): \n",
    "        for m in range(0, mdeltas[i], 10):\n",
    "            p = getIntercept(m+10, d, gvar)\n",
    "            ints.append([round(1.0/(m+10), 5), round(d,5), round(p[0],5), round(p[1],5)])\n",
    "\n",
    "    np.savetxt(\"data/intercepts_G\"+gvar+\"_python.csv\", \n",
    "        ints,\n",
    "       delimiter =\", \")"
   ]
  }
 ],
 "metadata": {
  "kernelspec": {
   "display_name": "Python 3 (ipykernel)",
   "language": "python",
   "name": "python3"
  },
  "language_info": {
   "codemirror_mode": {
    "name": "ipython",
    "version": 3
   },
   "file_extension": ".py",
   "mimetype": "text/x-python",
   "name": "python",
   "nbconvert_exporter": "python",
   "pygments_lexer": "ipython3",
   "version": "3.9.13"
  }
 },
 "nbformat": 4,
 "nbformat_minor": 5
}
