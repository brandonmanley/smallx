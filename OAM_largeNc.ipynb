{
 "cells": [
  {
   "cell_type": "code",
   "execution_count": 1,
   "metadata": {},
   "outputs": [],
   "source": [
    "from mpl_toolkits.mplot3d import Axes3D\n",
    "import matplotlib.pyplot as plt\n",
    "from matplotlib import cm\n",
    "from matplotlib.ticker import LinearLocator, FormatStrFormatter\n",
    "import numpy as np"
   ]
  },
  {
   "cell_type": "code",
   "execution_count": 27,
   "metadata": {},
   "outputs": [],
   "source": [
    "def oamCompute(delta_eta, eta_max, IC = \"Born\", alpha = 0.25):\n",
    "    # IC = \"Born\" or IC = \"Ones\"\n",
    "    n_steps = round(eta_max / delta_eta)\n",
    "    print(\"n steps =\", n_steps)\n",
    "    if IC == \"Ones\":\n",
    "        G3 = np.ones((n_steps + 1, n_steps + 1))\n",
    "        G4 = np.ones((n_steps + 1, n_steps + 1))\n",
    "        G5 = np.ones((n_steps + 1, n_steps + 1))\n",
    "        G6 = np.ones((n_steps + 1, n_steps + 1))\n",
    "        \n",
    "        Gm3 = np.ones((n_steps + 1, n_steps + 1, n_steps + 1))\n",
    "#         Gm4 = np.ones((n_steps + 1, n_steps + 1, n_steps + 1))\n",
    "        Gm5 = np.ones((n_steps + 1, n_steps + 1, n_steps + 1))\n",
    "        Gm6 = np.ones((n_steps + 1, n_steps + 1, n_steps + 1))\n",
    "    else: \n",
    "        Nc = 3\n",
    "        CF = ((Nc**2)-1)/(2*Nc)\n",
    "        coef = ((alpha**2)*(CF**2) * np.pi)/(4*Nc)\n",
    "        G3 = np.array([[coef for j in range(n_steps + 1)] for i in range(n_steps + 1)], dtype='longdouble')\n",
    "        G4 = np.array([[0 for j in range(n_steps + 1)] for i in range(n_steps + 1)], dtype='longdouble')\n",
    "        G5 = np.array([[0 for j in range(n_steps + 1)] for i in range(n_steps + 1)], dtype='longdouble')\n",
    "        G6 = np.array([[0 for j in range(n_steps + 1)] for i in range(n_steps + 1)], dtype='longdouble')\n",
    "        Gm3 = np.array([[[coef for j in range(n_steps + 1)] for k in range(n_steps + 1)] for i in range(n_steps + 1)], dtype='longdouble')\n",
    "#         Gm4 = np.array([[[0 for j in range(n_steps + 1)] for k in range(n_steps + 1)] for i in range(n_steps + 1)])\n",
    "        Gm5 = np.array([[[0 for j in range(n_steps + 1)] for k in range(n_steps + 1)] for i in range(n_steps + 1)], dtype='longdouble')\n",
    "        Gm6 = np.array([[[0 for j in range(n_steps + 1)] for k in range(n_steps + 1)] for i in range(n_steps + 1)], dtype='longdouble')\n",
    "        \n",
    "    ic = 0 # one step difference between initial conditions\n",
    "    d = (delta_eta ** 2)\n",
    "    for j in range(1, n_steps + 1):\n",
    "        for i in range(j + 1):\n",
    "            \n",
    "            G3[i, j] = G3[i, j-1] + ic\n",
    "            G4[i, j] = G4[i, j-1] + ic\n",
    "            G5[i, j] = G5[i, j-1] + ic\n",
    "            G6[i, j] = G6[i, j-1] + ic\n",
    "            \n",
    "            Gm3[i, i,j] = G3[i, j]\n",
    "#             Gm4[i, i,j] = G4[i, j]\n",
    "            Gm5[i, i,j] = G5[i, j]\n",
    "            Gm6[i, i,j] = G6[i, j]\n",
    "            \n",
    "            # G IR loop\n",
    "            for ii in range(i):\n",
    "                G3[i, j] += d * (2*G3[ii, j-i+ii] + G5[ii, j-i+ii] + 3*G6[ii,j-i+ii])\n",
    "                G4[i, j] += 0.5 * d * (2*G3[ii, j-i+ii] + 7*G4[ii,j-i+ii] + 7*G5[ii,j-i+ii] - 0.5*G6[ii,j-i+ii])\n",
    "                G5[i, j] += 0.5 * d * (-2*G3[ii, j-i+ii] - 4*G4[ii,j-i+ii] - 11*G5[ii,j-i+ii] - 3*G6[ii,j-i+ii])\n",
    "                G6[i, j] += 0.5 * d * (4*G3[ii, j-i+ii] + 2*G6[ii,j-i+ii])\n",
    "                \n",
    "            # G UV loop\n",
    "            for ii in range(i, j):\n",
    "                G3[i, j] += d * (Gm3[i,ii,j-1] + 0.5*Gm5[i,ii,j-1] + 3*Gm6[i,ii,j-1])\n",
    "                \n",
    "            # Gm UV loop \n",
    "            for k in range(i+1, j+1):\n",
    "                Gm3[i, k, j] = Gm3[i, k-1, j-1] + ic\n",
    "                for ii in range(k-1, j):\n",
    "                    Gm3[i, k, j] += d * (Gm3[i,ii,j-1] + 0.5*Gm5[i,ii,j-1] + 3*Gm6[i,ii,j-1])\n",
    "            \n",
    "            # Gm IR loop\n",
    "            for k in range(i+1, j+1):\n",
    "#                 Gm4[i, k, j] = Gm4[i, k-1, j-1] \n",
    "                Gm5[i, k, j] = Gm5[i, k-1, j-1] \n",
    "                Gm6[i, k, j] = Gm6[i, k-1, j-1] \n",
    "                \n",
    "        if(np.mod(j*delta_eta, 1) == 0): print(np.round(j * delta_eta, 4))\n",
    "    \n",
    "    logG3 = np.log(np.abs(G3) + 0.0000001)\n",
    "    logG4 = np.log(np.abs(G4) + 0.0000001)\n",
    "    logG5 = np.log(np.abs(G5) + 0.0000001)\n",
    "    logG6 = np.log(np.abs(G6) + 0.0000001)\n",
    "    logGm3 = np.log(np.abs(Gm3) + 0.0000001)\n",
    "#     logGm4 = np.log(np.abs(Gm4) + 0.0000001)\n",
    "    logGm5 = np.log(np.abs(Gm5) + 0.0000001)\n",
    "    logGm6 = np.log(np.abs(Gm6) + 0.0000001)\n",
    "    \n",
    "    return logG3, logG4, logG5, logG6, logGm3, logGm5, logGm6 #, logGm4\n",
    "\n"
   ]
  },
  {
   "cell_type": "code",
   "execution_count": null,
   "metadata": {},
   "outputs": [
    {
     "name": "stdout",
     "output_type": "stream",
     "text": [
      "Starting (del, eta)= 0.0125 10\n",
      "n steps = 800\n",
      "1.0\n",
      "2.0\n"
     ]
    }
   ],
   "source": [
    "\n",
    "mdeltas = [10, 10, 20, 20, 30, 40, 50, 60, 60, 70]\n",
    "deltas = [0.0125, 0.016, 0.025, 0.032, 0.0375, 0.05, 0.0625, 0.075, 0.08, 0.1]\n",
    "\n",
    "for mdelta, delta in zip(mdeltas, deltas):\n",
    "    for ieta in range(10, mdelta+1, 10):\n",
    "        print(\"Starting (del, eta)=\",delta,ieta)\n",
    "        G3i, G4i, G5i, G6i, Gm3i, Gm5i, Gm6i = oamCompute(delta, ieta)\n",
    "        np.savetxt(\"G3_\"+str(ieta)+\"_\"+str(delta)[2:]+\".dat\", G3i)\n",
    "        np.savetxt(\"G4_\"+str(ieta)+\"_\"+str(delta)[2:]+\".dat\", G4i)\n",
    "        np.savetxt(\"G5_\"+str(ieta)+\"_\"+str(delta)[2:]+\".dat\", G5i)\n",
    "        np.savetxt(\"G6_\"+str(ieta)+\"_\"+str(delta)[2:]+\".dat\", G6i)\n",
    "        print(\"Finished (del, eta)=\",delta,ieta)\n",
    "        \n",
    "        \n"
   ]
  },
  {
   "cell_type": "code",
   "execution_count": 21,
   "metadata": {},
   "outputs": [],
   "source": []
  },
  {
   "cell_type": "code",
   "execution_count": null,
   "metadata": {},
   "outputs": [],
   "source": []
  }
 ],
 "metadata": {
  "kernelspec": {
   "display_name": "Python 3 (ipykernel)",
   "language": "python",
   "name": "python3"
  },
  "language_info": {
   "codemirror_mode": {
    "name": "ipython",
    "version": 3
   },
   "file_extension": ".py",
   "mimetype": "text/x-python",
   "name": "python",
   "nbconvert_exporter": "python",
   "pygments_lexer": "ipython3",
   "version": "3.9.13"
  },
  "toc-autonumbering": true,
  "toc-showmarkdowntxt": false
 },
 "nbformat": 4,
 "nbformat_minor": 4
}
